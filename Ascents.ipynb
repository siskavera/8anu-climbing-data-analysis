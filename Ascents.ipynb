{
 "cells": [
  {
   "cell_type": "code",
   "execution_count": 13,
   "metadata": {},
   "outputs": [],
   "source": [
    "import numpy # linear algebra\n",
    "import pandas # data processing, CSV file I/O (e.g. pd.read_csv)\n",
    "import sqlite3 # Database\n",
    "import time\n",
    "\n",
    "%matplotlib inline\n",
    "import matplotlib.pyplot as plt\n",
    "import seaborn"
   ]
  },
  {
   "cell_type": "code",
   "execution_count": 24,
   "metadata": {},
   "outputs": [],
   "source": [
    "def get_table_columns(db, table_name):\n",
    "    sql = f\"\"\"SELECT * FROM {table_name} LIMIT 1\"\"\"\n",
    "    table_values = pandas.read_sql(sql, db)\n",
    "    return table_values.columns"
   ]
  },
  {
   "cell_type": "code",
   "execution_count": 62,
   "metadata": {},
   "outputs": [],
   "source": [
    "def get_n_records(db, table_name):\n",
    "    sql = f\"\"\"SELECT COUNT(*) FROM {table_name}\"\"\"\n",
    "    n_rows = pandas.read_sql(sql, db)\n",
    "    return n_rows['COUNT(*)'].iloc[0]"
   ]
  },
  {
   "cell_type": "code",
   "execution_count": 54,
   "metadata": {},
   "outputs": [],
   "source": [
    "# Connect to db\n",
    "# Tables: ascent, grade, method, user\n",
    "db = sqlite3.connect('input/database.sqlite')\n",
    "cursor = db.cursor()"
   ]
  },
  {
   "cell_type": "code",
   "execution_count": 55,
   "metadata": {},
   "outputs": [
    {
     "name": "stdout",
     "output_type": "stream",
     "text": [
      "Index(['id', 'user_id', 'grade_id', 'notes', 'raw_notes', 'method_id',\n",
      "       'climb_type', 'total_score', 'date', 'year', 'last_year', 'rec_date',\n",
      "       'project_ascent_date', 'name', 'crag_id', 'crag', 'sector_id', 'sector',\n",
      "       'country', 'comment', 'rating', 'description', 'yellow_id', 'climb_try',\n",
      "       'repeat', 'exclude_from_ranking', 'user_recommended', 'chipped'],\n",
      "      dtype='object')\n"
     ]
    }
   ],
   "source": [
    "# What columns are there?\n",
    "print(get_table_columns(db, 'ascent'))"
   ]
  },
  {
   "cell_type": "code",
   "execution_count": 57,
   "metadata": {},
   "outputs": [
    {
     "name": "stdout",
     "output_type": "stream",
     "text": [
      "4111877\n"
     ]
    }
   ],
   "source": [
    "# And how many records?\n",
    "print(get_n_records(db, 'ascent'))"
   ]
  },
  {
   "cell_type": "code",
   "execution_count": 79,
   "metadata": {},
   "outputs": [
    {
     "name": "stdout",
     "output_type": "stream",
     "text": [
      "   id  user_id  grade_id       date  year            name\n",
      "0   2        1        36  918342000  1999  The King And I\n",
      "1   3        1        36  925509600  1999          vet ej\n",
      "2   4        1        36  933026400  1999          Mr Big\n",
      "3   5        1        36  933026400  1999   Tak ska du ha\n",
      "4   6        1        36  933458400  1999   Korpen flyger\n",
      "Fetched 1k records in 0.05s\n"
     ]
    }
   ],
   "source": [
    "# Let's only load some important data\n",
    "#n_records = 1000\n",
    "\n",
    "start = time.time()\n",
    "sql = f\"\"\"SELECT id, user_id, grade_id, date, year, name FROM ascent\"\"\"\n",
    "ascents = pandas.read_sql(sql, db)\n",
    "print(ascents.head())\n",
    "end = time.time()\n",
    "\n",
    "print(f\"Fetched {ascents.shape[0]/1000:.0f}k records in {end-start:.2f}s\")"
   ]
  },
  {
   "cell_type": "code",
   "execution_count": 71,
   "metadata": {},
   "outputs": [
    {
     "name": "stdout",
     "output_type": "stream",
     "text": [
      "Grades columns:\n",
      "Index(['id', 'score', 'fra_routes', 'fra_routes_input', 'fra_routes_selector',\n",
      "       'fra_boulders', 'fra_boulders_input', 'fra_boulders_selector',\n",
      "       'usa_routes', 'usa_routes_input', 'usa_routes_selector', 'usa_boulders',\n",
      "       'usa_boulders_input', 'usa_boulders_selector'],\n",
      "      dtype='object')\n",
      "83 records\n",
      "['-' '1' '1a' '1b' '1c' '1+' '2' '2a' '2b' '2c' '2+' '3' '3a' '3a+' '3b'\n",
      " '3b+' '3c' '3c+' '3+' '4' '4a' '4a+' '4b' '4b+' '4c' '4c+' '4+' '5' '5a'\n",
      " '5a+' '5b' '5b+' '5c' '5c+' '6' '6a' '6a/+' '6a+' '6a+/6b' '6b' '6b/+'\n",
      " '6b+' '6b+/6c' '6c' '6c/+' '6c+' '6c+/7a' '7a' '7a/+' '7a+' '7a+/7b' '7b'\n",
      " '7b/+' '7b+' '7b+/7c' '7c' '7c/+' '7c+' '7c+/8a' '8a' '8a/+' '8a+'\n",
      " '8a+/8b' '8b' '8b/+' '8b+' '8b+/8c' '8c' '8c/+' '8c+' '8c+/9a' '9a'\n",
      " '9a/+' '9a+' '9a+/9b' '9b' '9b/+' '9b+' '9b+/9c' '9c' '9c/+' '9c+'\n",
      " '9c+/10a']\n"
     ]
    },
    {
     "data": {
      "text/html": [
       "<div>\n",
       "<style scoped>\n",
       "    .dataframe tbody tr th:only-of-type {\n",
       "        vertical-align: middle;\n",
       "    }\n",
       "\n",
       "    .dataframe tbody tr th {\n",
       "        vertical-align: top;\n",
       "    }\n",
       "\n",
       "    .dataframe thead th {\n",
       "        text-align: right;\n",
       "    }\n",
       "</style>\n",
       "<table border=\"1\" class=\"dataframe\">\n",
       "  <thead>\n",
       "    <tr style=\"text-align: right;\">\n",
       "      <th></th>\n",
       "      <th>id</th>\n",
       "      <th>score</th>\n",
       "      <th>fra_routes</th>\n",
       "      <th>fra_routes_input</th>\n",
       "      <th>fra_routes_selector</th>\n",
       "      <th>fra_boulders</th>\n",
       "      <th>fra_boulders_input</th>\n",
       "      <th>fra_boulders_selector</th>\n",
       "      <th>usa_routes</th>\n",
       "      <th>usa_routes_input</th>\n",
       "      <th>usa_routes_selector</th>\n",
       "      <th>usa_boulders</th>\n",
       "      <th>usa_boulders_input</th>\n",
       "      <th>usa_boulders_selector</th>\n",
       "    </tr>\n",
       "  </thead>\n",
       "  <tbody>\n",
       "    <tr>\n",
       "      <th>0</th>\n",
       "      <td>1</td>\n",
       "      <td>0</td>\n",
       "      <td>-</td>\n",
       "      <td>1</td>\n",
       "      <td>1</td>\n",
       "      <td>-</td>\n",
       "      <td>1</td>\n",
       "      <td>1</td>\n",
       "      <td>3/4</td>\n",
       "      <td>1</td>\n",
       "      <td>1</td>\n",
       "      <td>VB</td>\n",
       "      <td>1</td>\n",
       "      <td>1</td>\n",
       "    </tr>\n",
       "    <tr>\n",
       "      <th>1</th>\n",
       "      <td>2</td>\n",
       "      <td>0</td>\n",
       "      <td>1</td>\n",
       "      <td>0</td>\n",
       "      <td>0</td>\n",
       "      <td>1</td>\n",
       "      <td>0</td>\n",
       "      <td>0</td>\n",
       "      <td></td>\n",
       "      <td>0</td>\n",
       "      <td>0</td>\n",
       "      <td></td>\n",
       "      <td>0</td>\n",
       "      <td>0</td>\n",
       "    </tr>\n",
       "  </tbody>\n",
       "</table>\n",
       "</div>"
      ],
      "text/plain": [
       "   id  score fra_routes  fra_routes_input  fra_routes_selector fra_boulders  \\\n",
       "0   1      0          -                 1                    1            -   \n",
       "1   2      0          1                 0                    0            1   \n",
       "\n",
       "   fra_boulders_input  fra_boulders_selector usa_routes  usa_routes_input  \\\n",
       "0                   1                      1        3/4                 1   \n",
       "1                   0                      0                            0   \n",
       "\n",
       "   usa_routes_selector usa_boulders  usa_boulders_input  usa_boulders_selector  \n",
       "0                    1           VB                   1                      1  \n",
       "1                    0                                0                      0  "
      ]
     },
     "execution_count": 71,
     "metadata": {},
     "output_type": "execute_result"
    }
   ],
   "source": [
    "# Let's get the grades too\n",
    "print(\"Grades columns:\")\n",
    "print(get_table_columns(db, 'grade'))\n",
    "print(f\"{get_n_records(db, 'grade')} records\")\n",
    "\n",
    "sql = \"\"\"SELECT * FROM grade\"\"\"\n",
    "grades = pandas.read_sql(sql, db)\n",
    "print(grades.fra_routes.values)\n",
    "grades.head(2)\n",
    "# Seems like they are arranged according to difficulty, yay!"
   ]
  },
  {
   "cell_type": "code",
   "execution_count": 76,
   "metadata": {},
   "outputs": [
    {
     "name": "stdout",
     "output_type": "stream",
     "text": [
      "<class 'pandas.core.frame.DataFrame'>\n",
      "RangeIndex: 4111877 entries, 0 to 4111876\n",
      "Data columns (total 3 columns):\n",
      "id          int64\n",
      "user_id     int64\n",
      "grade_id    int64\n",
      "dtypes: int64(3)\n",
      "memory usage: 94.1 MB\n"
     ]
    }
   ],
   "source": [
    "# Let's now get back to the ascents and just use grade_id as an overall grade\n",
    "ascents.info()\n",
    "# No missing data, wow! :D\n",
    "# Let's just match it back to the users then"
   ]
  },
  {
   "cell_type": "code",
   "execution_count": 83,
   "metadata": {},
   "outputs": [
    {
     "data": {
      "text/plain": [
       "(36034,)"
      ]
     },
     "execution_count": 83,
     "metadata": {},
     "output_type": "execute_result"
    }
   ],
   "source": [
    "# How many users are in the ascent table?\n",
    "sql = f\"\"\"SELECT user_id FROM ascent\"\"\"\n",
    "user_ids = pandas.read_sql(sql, db).user_id.unique()\n",
    "user_ids.shape\n",
    "# Only about half the registered users!"
   ]
  },
  {
   "cell_type": "markdown",
   "metadata": {},
   "source": [
    "Are there duplicate entries?"
   ]
  },
  {
   "cell_type": "code",
   "execution_count": null,
   "metadata": {},
   "outputs": [],
   "source": []
  }
 ],
 "metadata": {
  "kernelspec": {
   "display_name": "Python 3",
   "language": "python",
   "name": "python3"
  },
  "language_info": {
   "codemirror_mode": {
    "name": "ipython",
    "version": 3
   },
   "file_extension": ".py",
   "mimetype": "text/x-python",
   "name": "python",
   "nbconvert_exporter": "python",
   "pygments_lexer": "ipython3",
   "version": "3.7.0"
  }
 },
 "nbformat": 4,
 "nbformat_minor": 2
}
