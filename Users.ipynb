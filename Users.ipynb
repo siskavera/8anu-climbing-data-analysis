{
 "cells": [
  {
   "cell_type": "code",
   "execution_count": 1,
   "metadata": {},
   "outputs": [
    {
     "name": "stdout",
     "output_type": "stream",
     "text": [
      "['database.sqlite']\n"
     ]
    }
   ],
   "source": [
    "import numpy # linear algebra\n",
    "import pandas # data processing, CSV file I/O (e.g. pd.read_csv)\n",
    "import sqlite3 # Database\n",
    "\n",
    "%matplotlib inline\n",
    "import matplotlib.pyplot as plt\n",
    "import seaborn\n",
    "\n",
    "import os\n",
    "print(os.listdir(\"input\"))"
   ]
  },
  {
   "cell_type": "code",
   "execution_count": 2,
   "metadata": {},
   "outputs": [],
   "source": [
    "# Connect to db\n",
    "# Tables: ascent, grade, method, user\n",
    "db = sqlite3.connect('input/database.sqlite')\n",
    "cursor = db.cursor()"
   ]
  },
  {
   "cell_type": "code",
   "execution_count": 3,
   "metadata": {},
   "outputs": [
    {
     "name": "stdout",
     "output_type": "stream",
     "text": [
      "     name\n",
      "0    user\n",
      "1  method\n",
      "2   grade\n",
      "3  ascent\n"
     ]
    }
   ],
   "source": [
    "# Let's check what tables live in our database\n",
    "sql = \"\"\"SELECT name FROM sqlite_master WHERE type='table'\"\"\"\n",
    "table_names = pandas.read_sql(sql,db)\n",
    "print(table_names)"
   ]
  },
  {
   "cell_type": "code",
   "execution_count": 4,
   "metadata": {},
   "outputs": [
    {
     "name": "stdout",
     "output_type": "stream",
     "text": [
      "user\n",
      "['id' 'first_name' 'last_name' 'city' 'country' 'sex' 'height' 'weight'\n",
      " 'started' 'competitions' 'occupation' 'sponsor1' 'sponsor2' 'sponsor3'\n",
      " 'best_area' 'worst_area' 'guide_area' 'interests' 'birth' 'presentation'\n",
      " 'deactivated' 'anonymous']\n",
      "\n",
      "method\n",
      "['id' 'score' 'shorthand' 'name']\n",
      "\n",
      "grade\n",
      "['id' 'score' 'fra_routes' 'fra_routes_input' 'fra_routes_selector'\n",
      " 'fra_boulders' 'fra_boulders_input' 'fra_boulders_selector' 'usa_routes'\n",
      " 'usa_routes_input' 'usa_routes_selector' 'usa_boulders'\n",
      " 'usa_boulders_input' 'usa_boulders_selector']\n",
      "\n",
      "ascent\n",
      "['id' 'user_id' 'grade_id' 'notes' 'raw_notes' 'method_id' 'climb_type'\n",
      " 'total_score' 'date' 'year' 'last_year' 'rec_date' 'project_ascent_date'\n",
      " 'name' 'crag_id' 'crag' 'sector_id' 'sector' 'country' 'comment' 'rating'\n",
      " 'description' 'yellow_id' 'climb_try' 'repeat' 'exclude_from_ranking'\n",
      " 'user_recommended' 'chipped']\n",
      "\n"
     ]
    }
   ],
   "source": [
    "# And let's check out what's inside\n",
    "n_rows = 5\n",
    "for table_name in table_names.name:\n",
    "    sql  = f\"\"\"SELECT * FROM {table_name} LIMIT {n_rows}\"\"\"\n",
    "    data = pandas.read_sql(sql, db)\n",
    "    print(table_name)\n",
    "    print(data.columns.values)\n",
    "    print()"
   ]
  },
  {
   "cell_type": "markdown",
   "metadata": {},
   "source": [
    "# Explore users"
   ]
  },
  {
   "cell_type": "code",
   "execution_count": 1,
   "metadata": {},
   "outputs": [
    {
     "ename": "NameError",
     "evalue": "name 'pandas' is not defined",
     "output_type": "error",
     "traceback": [
      "\u001b[0;31m---------------------------------------------------------------------------\u001b[0m",
      "\u001b[0;31mNameError\u001b[0m                                 Traceback (most recent call last)",
      "\u001b[0;32m<ipython-input-1-211b8acf2254>\u001b[0m in \u001b[0;36m<module>\u001b[0;34m\u001b[0m\n\u001b[1;32m      1\u001b[0m \u001b[0msql\u001b[0m \u001b[0;34m=\u001b[0m \u001b[0;34m\"\"\"SELECT * FROM user\"\"\"\u001b[0m\u001b[0;34m\u001b[0m\u001b[0m\n\u001b[0;32m----> 2\u001b[0;31m \u001b[0musers\u001b[0m \u001b[0;34m=\u001b[0m \u001b[0mpandas\u001b[0m\u001b[0;34m.\u001b[0m\u001b[0mread_sql\u001b[0m\u001b[0;34m(\u001b[0m\u001b[0msql\u001b[0m\u001b[0;34m,\u001b[0m \u001b[0mdb\u001b[0m\u001b[0;34m)\u001b[0m\u001b[0;34m\u001b[0m\u001b[0m\n\u001b[0m\u001b[1;32m      3\u001b[0m \u001b[0mprint\u001b[0m\u001b[0;34m(\u001b[0m\u001b[0musers\u001b[0m\u001b[0;34m.\u001b[0m\u001b[0mcolumns\u001b[0m\u001b[0;34m.\u001b[0m\u001b[0mvalues\u001b[0m\u001b[0;34m)\u001b[0m\u001b[0;34m\u001b[0m\u001b[0m\n\u001b[1;32m      4\u001b[0m \u001b[0mprint\u001b[0m\u001b[0;34m(\u001b[0m\u001b[0musers\u001b[0m\u001b[0;34m.\u001b[0m\u001b[0mhead\u001b[0m\u001b[0;34m(\u001b[0m\u001b[0;34m)\u001b[0m\u001b[0;34m)\u001b[0m\u001b[0;34m\u001b[0m\u001b[0m\n",
      "\u001b[0;31mNameError\u001b[0m: name 'pandas' is not defined"
     ]
    }
   ],
   "source": [
    "sql = \"\"\"SELECT * FROM user\"\"\"\n",
    "users = pandas.read_sql(sql, db)\n",
    "print(users.columns.values)\n",
    "print(users.head())"
   ]
  },
  {
   "cell_type": "code",
   "execution_count": 6,
   "metadata": {},
   "outputs": [
    {
     "name": "stdout",
     "output_type": "stream",
     "text": [
      "<class 'pandas.core.frame.DataFrame'>\n",
      "RangeIndex: 62593 entries, 0 to 62592\n",
      "Data columns (total 22 columns):\n",
      "id              62593 non-null int64\n",
      "first_name      62593 non-null object\n",
      "last_name       62593 non-null object\n",
      "city            62593 non-null object\n",
      "country         62593 non-null object\n",
      "sex             62593 non-null int64\n",
      "height          62593 non-null int64\n",
      "weight          62593 non-null int64\n",
      "started         62593 non-null int64\n",
      "competitions    47942 non-null object\n",
      "occupation      47946 non-null object\n",
      "sponsor1        47644 non-null object\n",
      "sponsor2        47633 non-null object\n",
      "sponsor3        47627 non-null object\n",
      "best_area       47942 non-null object\n",
      "worst_area      1227 non-null object\n",
      "guide_area      47942 non-null object\n",
      "interests       47946 non-null object\n",
      "birth           27856 non-null object\n",
      "presentation    47901 non-null object\n",
      "deactivated     62593 non-null int64\n",
      "anonymous       62593 non-null int64\n",
      "dtypes: int64(7), object(15)\n",
      "memory usage: 10.5+ MB\n"
     ]
    }
   ],
   "source": [
    "# Basic insights\n",
    "users.info()\n",
    "# Quite some missing information\n",
    "# But about half have birth, that's interesting: who climbs hard?\n",
    "# All have sex info! But integer?\n",
    "# All have height and weight??\n",
    "# Can check those who compete?"
   ]
  },
  {
   "cell_type": "code",
   "execution_count": 7,
   "metadata": {},
   "outputs": [
    {
     "data": {
      "text/html": [
       "<div>\n",
       "<style scoped>\n",
       "    .dataframe tbody tr th:only-of-type {\n",
       "        vertical-align: middle;\n",
       "    }\n",
       "\n",
       "    .dataframe tbody tr th {\n",
       "        vertical-align: top;\n",
       "    }\n",
       "\n",
       "    .dataframe thead th {\n",
       "        text-align: right;\n",
       "    }\n",
       "</style>\n",
       "<table border=\"1\" class=\"dataframe\">\n",
       "  <thead>\n",
       "    <tr style=\"text-align: right;\">\n",
       "      <th></th>\n",
       "      <th>id</th>\n",
       "      <th>sex</th>\n",
       "      <th>height</th>\n",
       "      <th>weight</th>\n",
       "      <th>started</th>\n",
       "      <th>deactivated</th>\n",
       "      <th>anonymous</th>\n",
       "    </tr>\n",
       "  </thead>\n",
       "  <tbody>\n",
       "    <tr>\n",
       "      <th>count</th>\n",
       "      <td>62593.000000</td>\n",
       "      <td>62593.000000</td>\n",
       "      <td>62593.000000</td>\n",
       "      <td>62593.000000</td>\n",
       "      <td>62593.000000</td>\n",
       "      <td>62593.000000</td>\n",
       "      <td>62593.0</td>\n",
       "    </tr>\n",
       "    <tr>\n",
       "      <th>mean</th>\n",
       "      <td>33106.406899</td>\n",
       "      <td>0.155145</td>\n",
       "      <td>83.884204</td>\n",
       "      <td>33.121899</td>\n",
       "      <td>1071.687665</td>\n",
       "      <td>0.040899</td>\n",
       "      <td>0.0</td>\n",
       "    </tr>\n",
       "    <tr>\n",
       "      <th>std</th>\n",
       "      <td>19373.407787</td>\n",
       "      <td>2.066462</td>\n",
       "      <td>88.155355</td>\n",
       "      <td>35.083605</td>\n",
       "      <td>999.569936</td>\n",
       "      <td>0.198058</td>\n",
       "      <td>0.0</td>\n",
       "    </tr>\n",
       "    <tr>\n",
       "      <th>min</th>\n",
       "      <td>1.000000</td>\n",
       "      <td>0.000000</td>\n",
       "      <td>0.000000</td>\n",
       "      <td>0.000000</td>\n",
       "      <td>0.000000</td>\n",
       "      <td>0.000000</td>\n",
       "      <td>0.0</td>\n",
       "    </tr>\n",
       "    <tr>\n",
       "      <th>25%</th>\n",
       "      <td>16325.000000</td>\n",
       "      <td>0.000000</td>\n",
       "      <td>0.000000</td>\n",
       "      <td>0.000000</td>\n",
       "      <td>0.000000</td>\n",
       "      <td>0.000000</td>\n",
       "      <td>0.0</td>\n",
       "    </tr>\n",
       "    <tr>\n",
       "      <th>50%</th>\n",
       "      <td>32721.000000</td>\n",
       "      <td>0.000000</td>\n",
       "      <td>0.000000</td>\n",
       "      <td>0.000000</td>\n",
       "      <td>1992.000000</td>\n",
       "      <td>0.000000</td>\n",
       "      <td>0.0</td>\n",
       "    </tr>\n",
       "    <tr>\n",
       "      <th>75%</th>\n",
       "      <td>49980.000000</td>\n",
       "      <td>0.000000</td>\n",
       "      <td>176.000000</td>\n",
       "      <td>68.000000</td>\n",
       "      <td>2006.000000</td>\n",
       "      <td>0.000000</td>\n",
       "      <td>0.0</td>\n",
       "    </tr>\n",
       "    <tr>\n",
       "      <th>max</th>\n",
       "      <td>67025.000000</td>\n",
       "      <td>255.000000</td>\n",
       "      <td>255.000000</td>\n",
       "      <td>100.000000</td>\n",
       "      <td>2090.000000</td>\n",
       "      <td>1.000000</td>\n",
       "      <td>0.0</td>\n",
       "    </tr>\n",
       "  </tbody>\n",
       "</table>\n",
       "</div>"
      ],
      "text/plain": [
       "                 id           sex        height        weight       started  \\\n",
       "count  62593.000000  62593.000000  62593.000000  62593.000000  62593.000000   \n",
       "mean   33106.406899      0.155145     83.884204     33.121899   1071.687665   \n",
       "std    19373.407787      2.066462     88.155355     35.083605    999.569936   \n",
       "min        1.000000      0.000000      0.000000      0.000000      0.000000   \n",
       "25%    16325.000000      0.000000      0.000000      0.000000      0.000000   \n",
       "50%    32721.000000      0.000000      0.000000      0.000000   1992.000000   \n",
       "75%    49980.000000      0.000000    176.000000     68.000000   2006.000000   \n",
       "max    67025.000000    255.000000    255.000000    100.000000   2090.000000   \n",
       "\n",
       "        deactivated  anonymous  \n",
       "count  62593.000000    62593.0  \n",
       "mean       0.040899        0.0  \n",
       "std        0.198058        0.0  \n",
       "min        0.000000        0.0  \n",
       "25%        0.000000        0.0  \n",
       "50%        0.000000        0.0  \n",
       "75%        0.000000        0.0  \n",
       "max        1.000000        0.0  "
      ]
     },
     "execution_count": 7,
     "metadata": {},
     "output_type": "execute_result"
    }
   ],
   "source": [
    "users.describe()\n",
    "# Quite a few spurious weights and heights\n",
    "# Unit for weight and height?"
   ]
  },
  {
   "cell_type": "code",
   "execution_count": 8,
   "metadata": {},
   "outputs": [
    {
     "data": {
      "image/png": "[encoded data removed]",
      "text/plain": [
       "<Figure size 1440x1080 with 9 Axes>"
      ]
     },
     "metadata": {
      "needs_background": "light"
     },
     "output_type": "display_data"
    }
   ],
   "source": [
    "users.hist(bins=50, figsize=(20,15))\n",
    "plt.show()"
   ]
  },
  {
   "cell_type": "code",
   "execution_count": 9,
   "metadata": {},
   "outputs": [
    {
     "data": {
      "text/plain": [
       "sex\n",
       "0      53898\n",
       "1       8691\n",
       "255        4\n",
       "Name: id, dtype: int64"
      ]
     },
     "execution_count": 9,
     "metadata": {},
     "output_type": "execute_result"
    }
   ],
   "source": [
    "# Sex\n",
    "users.groupby('sex')['id'].count() \n",
    "# Either seriously gender-biased or data issue"
   ]
  },
  {
   "cell_type": "code",
   "execution_count": 10,
   "metadata": {},
   "outputs": [
    {
     "data": {
      "text/plain": [
       "array([[<matplotlib.axes._subplots.AxesSubplot object at 0x7fac53711a20>,\n",
       "        <matplotlib.axes._subplots.AxesSubplot object at 0x7fac52a40668>]],\n",
       "      dtype=object)"
      ]
     },
     "execution_count": 10,
     "metadata": {},
     "output_type": "execute_result"
    },
    {
     "data": {
      "image/png": "[encoded data removed]",
      "text/plain": [
       "<Figure size 1440x360 with 2 Axes>"
      ]
     },
     "metadata": {
      "needs_background": "light"
     },
     "output_type": "display_data"
    }
   ],
   "source": [
    "# Weight and height\n",
    "users[['weight','height']].replace(0, numpy.nan).hist(bins=50, figsize=(20,5))\n",
    "# Better now, although height still strange. Maybe unit issue? Or missed/misspelled the \"1\" in front?\n",
    "# Height is integer, but otherwise fine (except for 100s)"
   ]
  },
  {
   "cell_type": "code",
   "execution_count": 11,
   "metadata": {},
   "outputs": [
    {
     "name": "stdout",
     "output_type": "stream",
     "text": [
      "Year\n",
      "[1000 1900 1919 1931 1935 1936 1939 1940 1941 1943 1944 1945 1946 1947\n",
      " 1948 1949 1950 1951 1952 1953 1954 1955 1956 1957 1958 1959 1960 1961\n",
      " 1962 1963 1964 1965 1966 1967 1968 1969 1970 1971 1972 1973 1974 1975\n",
      " 1976 1977 1978 1979 1980 1981 1982 1983 1984 1985 1986 1987 1988 1989\n",
      " 1990 1991 1992 1993 1994 1995 1996 1997 1998 1999 2000 2001 2002 2003\n",
      " 2004 2005 2006 2007 2008 2009 2010 2011 2012 2013 2014 2015 2016 2017]\n",
      "Month\n",
      "[ 1  2  3  4  5  6  7  8  9 10 11 12]\n",
      "Day\n",
      "[ 1  2  3  4  5  6  7  8  9 10 11 12 13 14 15 16 17 18 19 20 21 22 23 24\n",
      " 25 26 27 28 29 30 31]\n"
     ]
    },
    {
     "data": {
      "image/png": "[encoded data removed]",
      "text/plain": [
       "<Figure size 1440x360 with 4 Axes>"
      ]
     },
     "metadata": {
      "needs_background": "light"
     },
     "output_type": "display_data"
    }
   ],
   "source": [
    "# Birth\n",
    "birth_dates = pandas.DataFrame(users.birth.dropna().str.split(\"-\").tolist(),\n",
    "                             columns = ['year','month','day']).apply(lambda x: x.astype(int))\n",
    "\n",
    "print('Year')\n",
    "print(numpy.sort(birth_dates.year.unique()))\n",
    "print('Month')\n",
    "print(numpy.sort(birth_dates.month.unique()))\n",
    "print('Day')\n",
    "print(numpy.sort(birth_dates.day.unique()))\n",
    "\n",
    "# Year is weird, let's take at least 1000 and 1900 out\n",
    "birth_dates = birth_dates[birth_dates.year > 1900]\n",
    "birth_dates.hist(bins=50, figsize=(20,5))\n",
    "plt.show()"
   ]
  },
  {
   "cell_type": "code",
   "execution_count": 23,
   "metadata": {},
   "outputs": [
    {
     "data": {
      "text/plain": [
       "country\n",
       "USA    11861\n",
       "ESP     6905\n",
       "DEU     3712\n",
       "SWE     3629\n",
       "ITA     3590\n",
       "FRA     3326\n",
       "POL     3303\n",
       "GBR     2660\n",
       "BRA     2062\n",
       "AUT     1928\n",
       "Name: id, dtype: int64"
      ]
     },
     "execution_count": 23,
     "metadata": {},
     "output_type": "execute_result"
    }
   ],
   "source": [
    "# Where are they from?\n",
    "users.groupby('country')['id'].count().sort_values(ascending=False).head(10)\n",
    "# Mainly US, but also other countries"
   ]
  },
  {
   "cell_type": "code",
   "execution_count": 17,
   "metadata": {},
   "outputs": [
    {
     "name": "stdout",
     "output_type": "stream",
     "text": [
      "Object `sort_values()` not found.\n"
     ]
    }
   ],
   "source": []
  },
  {
   "cell_type": "code",
   "execution_count": null,
   "metadata": {},
   "outputs": [],
   "source": []
  }
 ],
 "metadata": {
  "kernelspec": {
   "display_name": "Python (handson_ml)",
   "language": "python",
   "name": "handson_ml"
  },
  "language_info": {
   "codemirror_mode": {
    "name": "ipython",
    "version": 3
   },
   "file_extension": ".py",
   "mimetype": "text/x-python",
   "name": "python",
   "nbconvert_exporter": "python",
   "pygments_lexer": "ipython3",
   "version": "3.7.0"
  }
 },
 "nbformat": 4,
 "nbformat_minor": 2
}
