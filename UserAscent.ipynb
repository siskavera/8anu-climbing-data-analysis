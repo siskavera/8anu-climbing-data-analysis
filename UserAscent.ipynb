{
 "cells": [
  {
   "cell_type": "code",
   "execution_count": 1,
   "metadata": {},
   "outputs": [],
   "source": [
    "import numpy # linear algebra\n",
    "import pandas # data processing, CSV file I/O (e.g. pd.read_csv)\n",
    "import sqlite3 # Database\n",
    "import hashlib\n",
    "\n",
    "%matplotlib inline\n",
    "import matplotlib.pyplot as plt\n",
    "import seaborn\n",
    "\n",
    "from sklearn.preprocessing import OneHotEncoder, LabelBinarizer, StandardScaler\n",
    "from sklearn.impute import SimpleImputer\n",
    "from sklearn.base import BaseEstimator, TransformerMixin\n",
    "from sklearn.pipeline import Pipeline, FeatureUnion"
   ]
  },
  {
   "cell_type": "code",
   "execution_count": 2,
   "metadata": {},
   "outputs": [],
   "source": [
    "# Connect to db\n",
    "# Tables: ascent, grade, method, user\n",
    "db = sqlite3.connect('input/database.sqlite')\n",
    "cursor = db.cursor()"
   ]
  },
  {
   "cell_type": "code",
   "execution_count": 3,
   "metadata": {},
   "outputs": [
    {
     "data": {
      "text/html": [
       "<div>\n",
       "<style scoped>\n",
       "    .dataframe tbody tr th:only-of-type {\n",
       "        vertical-align: middle;\n",
       "    }\n",
       "\n",
       "    .dataframe tbody tr th {\n",
       "        vertical-align: top;\n",
       "    }\n",
       "\n",
       "    .dataframe thead th {\n",
       "        text-align: right;\n",
       "    }\n",
       "</style>\n",
       "<table border=\"1\" class=\"dataframe\">\n",
       "  <thead>\n",
       "    <tr style=\"text-align: right;\">\n",
       "      <th></th>\n",
       "      <th>id</th>\n",
       "      <th>sex</th>\n",
       "      <th>height</th>\n",
       "      <th>weight</th>\n",
       "      <th>started</th>\n",
       "      <th>competitions</th>\n",
       "      <th>birth</th>\n",
       "    </tr>\n",
       "  </thead>\n",
       "  <tbody>\n",
       "    <tr>\n",
       "      <th>0</th>\n",
       "      <td>1</td>\n",
       "      <td>0</td>\n",
       "      <td>177</td>\n",
       "      <td>73</td>\n",
       "      <td>1996</td>\n",
       "      <td></td>\n",
       "      <td>1976-03-10</td>\n",
       "    </tr>\n",
       "    <tr>\n",
       "      <th>1</th>\n",
       "      <td>2</td>\n",
       "      <td>0</td>\n",
       "      <td>0</td>\n",
       "      <td>0</td>\n",
       "      <td>2000</td>\n",
       "      <td></td>\n",
       "      <td>NaT</td>\n",
       "    </tr>\n",
       "    <tr>\n",
       "      <th>2</th>\n",
       "      <td>3</td>\n",
       "      <td>0</td>\n",
       "      <td>180</td>\n",
       "      <td>78</td>\n",
       "      <td>1995</td>\n",
       "      <td></td>\n",
       "      <td>1973-09-09</td>\n",
       "    </tr>\n",
       "    <tr>\n",
       "      <th>3</th>\n",
       "      <td>4</td>\n",
       "      <td>1</td>\n",
       "      <td>165</td>\n",
       "      <td>58</td>\n",
       "      <td>2001</td>\n",
       "      <td></td>\n",
       "      <td>1984-07-26</td>\n",
       "    </tr>\n",
       "    <tr>\n",
       "      <th>4</th>\n",
       "      <td>5</td>\n",
       "      <td>0</td>\n",
       "      <td>0</td>\n",
       "      <td>0</td>\n",
       "      <td>1991</td>\n",
       "      <td></td>\n",
       "      <td>1969-05-07</td>\n",
       "    </tr>\n",
       "    <tr>\n",
       "      <th>5</th>\n",
       "      <td>6</td>\n",
       "      <td>0</td>\n",
       "      <td>185</td>\n",
       "      <td>73</td>\n",
       "      <td>1992</td>\n",
       "      <td>last</td>\n",
       "      <td>1970-12-02</td>\n",
       "    </tr>\n",
       "    <tr>\n",
       "      <th>6</th>\n",
       "      <td>10</td>\n",
       "      <td>0</td>\n",
       "      <td>167</td>\n",
       "      <td>63</td>\n",
       "      <td>1992</td>\n",
       "      <td></td>\n",
       "      <td>1965-06-22</td>\n",
       "    </tr>\n",
       "    <tr>\n",
       "      <th>7</th>\n",
       "      <td>11</td>\n",
       "      <td>0</td>\n",
       "      <td>175</td>\n",
       "      <td>73</td>\n",
       "      <td>1998</td>\n",
       "      <td>1:a</td>\n",
       "      <td>1980-01-09</td>\n",
       "    </tr>\n",
       "    <tr>\n",
       "      <th>8</th>\n",
       "      <td>12</td>\n",
       "      <td>0</td>\n",
       "      <td>0</td>\n",
       "      <td>0</td>\n",
       "      <td>2000</td>\n",
       "      <td></td>\n",
       "      <td>NaT</td>\n",
       "    </tr>\n",
       "    <tr>\n",
       "      <th>9</th>\n",
       "      <td>13</td>\n",
       "      <td>0</td>\n",
       "      <td>0</td>\n",
       "      <td>0</td>\n",
       "      <td>2000</td>\n",
       "      <td></td>\n",
       "      <td>NaT</td>\n",
       "    </tr>\n",
       "  </tbody>\n",
       "</table>\n",
       "</div>"
      ],
      "text/plain": [
       "   id  sex  height  weight  started competitions      birth\n",
       "0   1    0     177      73     1996              1976-03-10\n",
       "1   2    0       0       0     2000                     NaT\n",
       "2   3    0     180      78     1995              1973-09-09\n",
       "3   4    1     165      58     2001              1984-07-26\n",
       "4   5    0       0       0     1991              1969-05-07\n",
       "5   6    0     185      73     1992         last 1970-12-02\n",
       "6  10    0     167      63     1992              1965-06-22\n",
       "7  11    0     175      73     1998          1:a 1980-01-09\n",
       "8  12    0       0       0     2000                     NaT\n",
       "9  13    0       0       0     2000                     NaT"
      ]
     },
     "execution_count": 3,
     "metadata": {},
     "output_type": "execute_result"
    }
   ],
   "source": [
    "# city, country messy, so not used for now\n",
    "sql = \"\"\"SELECT id, sex, height, weight, started, competitions, birth FROM user\"\"\"\n",
    "users = pandas.read_sql(sql, db)\n",
    "users['birth'] = pandas.to_datetime(users['birth'], errors='coerce') # Invalid set to NaN\n",
    "users.head(10)"
   ]
  },
  {
   "cell_type": "code",
   "execution_count": 4,
   "metadata": {},
   "outputs": [
    {
     "data": {
      "text/html": [
       "<div>\n",
       "<style scoped>\n",
       "    .dataframe tbody tr th:only-of-type {\n",
       "        vertical-align: middle;\n",
       "    }\n",
       "\n",
       "    .dataframe tbody tr th {\n",
       "        vertical-align: top;\n",
       "    }\n",
       "\n",
       "    .dataframe thead th {\n",
       "        text-align: right;\n",
       "    }\n",
       "</style>\n",
       "<table border=\"1\" class=\"dataframe\">\n",
       "  <thead>\n",
       "    <tr style=\"text-align: right;\">\n",
       "      <th></th>\n",
       "      <th>n_ascents</th>\n",
       "      <th>mean_grade</th>\n",
       "    </tr>\n",
       "  </thead>\n",
       "  <tbody>\n",
       "    <tr>\n",
       "      <th>count</th>\n",
       "      <td>36034.000000</td>\n",
       "      <td>36034.000000</td>\n",
       "    </tr>\n",
       "    <tr>\n",
       "      <th>mean</th>\n",
       "      <td>114.111034</td>\n",
       "      <td>44.701745</td>\n",
       "    </tr>\n",
       "    <tr>\n",
       "      <th>std</th>\n",
       "      <td>216.875290</td>\n",
       "      <td>8.727258</td>\n",
       "    </tr>\n",
       "    <tr>\n",
       "      <th>min</th>\n",
       "      <td>1.000000</td>\n",
       "      <td>1.000000</td>\n",
       "    </tr>\n",
       "    <tr>\n",
       "      <th>25%</th>\n",
       "      <td>9.000000</td>\n",
       "      <td>38.714286</td>\n",
       "    </tr>\n",
       "    <tr>\n",
       "      <th>50%</th>\n",
       "      <td>35.000000</td>\n",
       "      <td>44.857143</td>\n",
       "    </tr>\n",
       "    <tr>\n",
       "      <th>75%</th>\n",
       "      <td>125.000000</td>\n",
       "      <td>50.943031</td>\n",
       "    </tr>\n",
       "    <tr>\n",
       "      <th>max</th>\n",
       "      <td>5541.000000</td>\n",
       "      <td>81.000000</td>\n",
       "    </tr>\n",
       "  </tbody>\n",
       "</table>\n",
       "</div>"
      ],
      "text/plain": [
       "          n_ascents    mean_grade\n",
       "count  36034.000000  36034.000000\n",
       "mean     114.111034     44.701745\n",
       "std      216.875290      8.727258\n",
       "min        1.000000      1.000000\n",
       "25%        9.000000     38.714286\n",
       "50%       35.000000     44.857143\n",
       "75%      125.000000     50.943031\n",
       "max     5541.000000     81.000000"
      ]
     },
     "execution_count": 4,
     "metadata": {},
     "output_type": "execute_result"
    }
   ],
   "source": [
    "sql = f\"\"\"SELECT user_id, grade_id FROM ascent\"\"\"\n",
    "grades_per_user = pandas.read_sql(sql, db).groupby('user_id').agg(['count', 'mean'])\n",
    "grades_per_user.columns = ['n_ascents', 'mean_grade']\n",
    "grades_per_user.describe()"
   ]
  },
  {
   "cell_type": "code",
   "execution_count": 5,
   "metadata": {},
   "outputs": [
    {
     "data": {
      "text/plain": [
       "(36031, 9)"
      ]
     },
     "execution_count": 5,
     "metadata": {},
     "output_type": "execute_result"
    }
   ],
   "source": [
    "users = pandas.merge(users, grades_per_user, left_on='id', right_index=True)\n",
    "users.shape\n",
    "# Inner merge, hence dropping ~half the users (need both user info and grade info)"
   ]
  },
  {
   "cell_type": "code",
   "execution_count": 6,
   "metadata": {},
   "outputs": [
    {
     "data": {
      "text/plain": [
       "array([[<matplotlib.axes._subplots.AxesSubplot object at 0x7f544128c470>,\n",
       "        <matplotlib.axes._subplots.AxesSubplot object at 0x7f54125797f0>]],\n",
       "      dtype=object)"
      ]
     },
     "execution_count": 6,
     "metadata": {},
     "output_type": "execute_result"
    },
    {
     "data": {
      "image/png": "[encoded data removed]",
      "text/plain": [
       "<Figure size 1440x360 with 2 Axes>"
      ]
     },
     "metadata": {
      "needs_background": "light"
     },
     "output_type": "display_data"
    }
   ],
   "source": [
    "users[grades_per_user.columns].hist(bins=50, figsize=(20,5))\n",
    "# Neither are very gaussian...\n",
    "# #ascents is OK, but mean grade is strange..."
   ]
  },
  {
   "cell_type": "code",
   "execution_count": 7,
   "metadata": {},
   "outputs": [
    {
     "data": {
      "text/plain": [
       "<matplotlib.axes._subplots.AxesSubplot at 0x7f53fb4adb38>"
      ]
     },
     "execution_count": 7,
     "metadata": {},
     "output_type": "execute_result"
    },
    {
     "data": {
      "image/png": "[encoded data removed]",
      "text/plain": [
       "<Figure size 432x288 with 1 Axes>"
      ]
     },
     "metadata": {
      "needs_background": "light"
     },
     "output_type": "display_data"
    }
   ],
   "source": [
    "numpy.log(users[users['n_ascents'] > 1]['n_ascents']).hist() # Looks a bit lognormal, with a peak at one-time users"
   ]
  },
  {
   "cell_type": "code",
   "execution_count": 8,
   "metadata": {},
   "outputs": [
    {
     "data": {
      "text/plain": [
       "mean_grade    1.000000\n",
       "n_ascents     0.125275\n",
       "sex          -0.012835\n",
       "started      -0.032901\n",
       "height       -0.043327\n",
       "weight       -0.047808\n",
       "id           -0.118128\n",
       "Name: mean_grade, dtype: float64"
      ]
     },
     "execution_count": 8,
     "metadata": {},
     "output_type": "execute_result"
    }
   ],
   "source": [
    "# Correlations?\n",
    "corr_matrix = users.corr()\n",
    "corr_matrix['mean_grade'].sort_values(ascending=False)\n",
    "# Those who are active (climb and compete) much are better -> Stratified sampling for training?\n",
    "# The smaller and lighter the better - note though: spurious values! Need to get rid of them!"
   ]
  },
  {
   "cell_type": "markdown",
   "metadata": {},
   "source": [
    "# Training and test set"
   ]
  },
  {
   "cell_type": "code",
   "execution_count": 9,
   "metadata": {},
   "outputs": [],
   "source": [
    "def test_set_check(identifier, test_ratio, hash_function):\n",
    "    return hash_function(numpy.int64(identifier)).digest()[-1] < 256 * test_ratio\n",
    "\n",
    "def split_train_test_by_id(data, test_ratio, id_column, hash_function=hashlib.md5):\n",
    "    ids = data[id_column]\n",
    "    in_test_set = ids.apply(lambda id_: test_set_check(id_, test_ratio, hash_function))\n",
    "    return data.loc[~in_test_set], data.loc[in_test_set]"
   ]
  },
  {
   "cell_type": "code",
   "execution_count": 10,
   "metadata": {},
   "outputs": [],
   "source": [
    "train_set, test_set = split_train_test_by_id(users, 0.2, 'id')"
   ]
  },
  {
   "cell_type": "markdown",
   "metadata": {},
   "source": [
    "# Cleaning"
   ]
  },
  {
   "cell_type": "markdown",
   "metadata": {},
   "source": [
    "['id' 'first_name' 'last_name' 'city' 'country' 'sex' 'height' 'weight'\n",
    " 'started' 'competitions' 'occupation' 'sponsor1' 'sponsor2' 'sponsor3'\n",
    " 'best_area' 'worst_area' 'guide_area' 'interests' 'birth' 'presentation'\n",
    " 'deactivated' 'anonymous']\n",
    "       \n",
    "Cleaning steps\n",
    "* Choose only relevant columns\n",
    "* Transform competitions to filled/unfilled\n",
    "* Transform birth to age\n",
    "* Get rid of obvious input issues: strange ages, heights and weights\n",
    "* Maybe don't consider very infrequent users? Stratified sampling by #ascents?"
   ]
  },
  {
   "cell_type": "code",
   "execution_count": 11,
   "metadata": {},
   "outputs": [
    {
     "data": {
      "text/plain": [
       "{'id': 0,\n",
       " 'sex': 1,\n",
       " 'height': 2,\n",
       " 'weight': 3,\n",
       " 'started': 4,\n",
       " 'competitions': 5,\n",
       " 'n_ascents': 6,\n",
       " 'mean_grade': 7,\n",
       " 'age': 8}"
      ]
     },
     "execution_count": 11,
     "metadata": {},
     "output_type": "execute_result"
    }
   ],
   "source": [
    "# Use only training set\n",
    "users = train_set.copy()\n",
    "users['age'] = users['birth']\n",
    "users.drop('birth', axis=1, inplace=True)\n",
    "\n",
    "grade_labels = users.mean_grade\n",
    "\n",
    "column_ix_name_dict = dict(zip(users.columns, range(users.shape[1])))\n",
    "column_ix_name_dict"
   ]
  },
  {
   "cell_type": "code",
   "execution_count": 72,
   "metadata": {},
   "outputs": [
    {
     "name": "stdout",
     "output_type": "stream",
     "text": [
      "<class 'pandas.core.frame.DataFrame'>\n",
      "Int64Index: 28775 entries, 0 to 62589\n",
      "Data columns (total 9 columns):\n",
      "id              28775 non-null int64\n",
      "sex             28775 non-null int64\n",
      "height          28775 non-null int64\n",
      "weight          28775 non-null int64\n",
      "started         28775 non-null int64\n",
      "competitions    25603 non-null object\n",
      "n_ascents       28775 non-null int64\n",
      "mean_grade      28775 non-null float64\n",
      "age             17161 non-null datetime64[ns]\n",
      "dtypes: datetime64[ns](1), float64(1), int64(6), object(1)\n",
      "memory usage: 2.2+ MB\n"
     ]
    }
   ],
   "source": [
    "users.info()\n",
    "# A lot of dates are missing and many people have not competed (missing/'')"
   ]
  },
  {
   "cell_type": "code",
   "execution_count": 73,
   "metadata": {},
   "outputs": [],
   "source": [
    "class CompetitionPresentTransformator(BaseEstimator, TransformerMixin):\n",
    "    def __init__(self, column_ix_name_dict):\n",
    "        self.col_ix = column_ix_name_dict['competitions']\n",
    "    def fit(self, X, y=None):\n",
    "        return self\n",
    "    def transform(self, X, y=None):\n",
    "        comp_present = numpy.full(X.shape[0],1)\n",
    "        comp_present[X[:,self.col_ix] == None] = 0\n",
    "        comp_present[X[:,self.col_ix] == ''] = 0\n",
    "        X[:,self.col_ix] = comp_present\n",
    "        return X"
   ]
  },
  {
   "cell_type": "code",
   "execution_count": 74,
   "metadata": {},
   "outputs": [],
   "source": [
    "def to_years(pandas_timedelta):\n",
    "    return pandas_timedelta.total_seconds() / (60*60*24*365)\n",
    "\n",
    "to_years_vec = numpy.vectorize(to_years)\n",
    "\n",
    "age_ix = column_ix_name_dict['age']\n",
    "class BirthToAgeTransformator(BaseEstimator, TransformerMixin):\n",
    "    def __init__(self, column_ix_name_dict):\n",
    "        self.col_ix = column_ix_name_dict['age']\n",
    "    def fit(self, X, y=None):\n",
    "        return self\n",
    "    def transform(self, X, y=None):\n",
    "        X[:,self.col_ix] = (pandas.Timestamp.now() - X[:,self.col_ix])\n",
    "        X[:,self.col_ix] = to_years_vec(X[:,self.col_ix]) # In years, roughly\n",
    "        return X"
   ]
  },
  {
   "cell_type": "code",
   "execution_count": 222,
   "metadata": {},
   "outputs": [],
   "source": [
    "problematic_values = {'sex': 255,\n",
    "                      'started': 0}\n",
    "\n",
    "class MissingValueSetter(BaseEstimator, TransformerMixin):\n",
    "    def __init__(self, problematic_values, column_ix_name_dict):\n",
    "        self.problematic_values = problematic_values\n",
    "        self.column_ix_name_dict = column_ix_name_dict\n",
    "    def fit(self, X, y=None):\n",
    "        return self\n",
    "    def transform(self, X, y=None):\n",
    "        for col_name, value in zip(self.problematic_values.keys(), self.problematic_values.values()):\n",
    "            if col_name in self.column_ix_name_dict:\n",
    "                col_ix = self.column_ix_name_dict[col_name]\n",
    "                X[X[:,col_ix] == value, col_ix] = numpy.nan\n",
    "        return X"
   ]
  },
  {
   "cell_type": "code",
   "execution_count": 223,
   "metadata": {},
   "outputs": [],
   "source": [
    "valid_ranges = {'height': (120, 230),\n",
    "               'weight': (30, 120),\n",
    "               'started': (1900, 2019),\n",
    "               'age': (10,100)} # After age transformation\n",
    "\n",
    "class InvalidRangeSetter(BaseEstimator, TransformerMixin):\n",
    "    def __init__(self, valid_ranges, column_ix_name_dict):\n",
    "        self.valid_ranges = valid_ranges\n",
    "        self.column_ix_name_dict = column_ix_name_dict\n",
    "    def fit(self, X, y=None):\n",
    "        return self\n",
    "    def transform(self, X, y=None):\n",
    "        for col_name, col_range in zip(self.valid_ranges.keys(), self.valid_ranges.values()):\n",
    "            if col_name in self.column_ix_name_dict:\n",
    "                col_ix = self.column_ix_name_dict[col_name]\n",
    "\n",
    "                X[X[:,col_ix] == None, col_ix] = col_range[0]-10 # To fix problem with None-s\n",
    "                X[X[:,col_ix] < col_range[0], col_ix] = None\n",
    "\n",
    "                X[X[:,col_ix] == None, col_ix] = col_range[1]+10 # To fix problem with None-s\n",
    "                X[X[:,col_ix] > col_range[1], col_ix] = None\n",
    "        return X"
   ]
  },
  {
   "cell_type": "code",
   "execution_count": 224,
   "metadata": {},
   "outputs": [],
   "source": [
    "class DataFrameSelector(BaseEstimator, TransformerMixin):\n",
    "    def __init__(self, attribute_names):\n",
    "        self.attribute_names = attribute_names\n",
    "    def fit(self, X, y=None):\n",
    "        return self\n",
    "    def transform(self, X, y=None):\n",
    "        return X[self.attribute_names].values.copy()"
   ]
  },
  {
   "cell_type": "code",
   "execution_count": 225,
   "metadata": {},
   "outputs": [],
   "source": [
    "class Floater(BaseEstimator, TransformerMixin):\n",
    "    def __init__(self):\n",
    "        pass\n",
    "    def fit(self, X, y=None):\n",
    "        return self\n",
    "    def transform(self, X, y=None):\n",
    "        for i in range(X.shape[1]):\n",
    "            X[:,i] = X[:,i].astype(float)\n",
    "        return X"
   ]
  },
  {
   "cell_type": "code",
   "execution_count": 226,
   "metadata": {},
   "outputs": [],
   "source": [
    "num_attributes = ['height', 'weight', 'started', 'n_ascents', 'age']\n",
    "num_column_ix_name_dict = dict(zip(num_attributes, range(len(num_attributes))))\n",
    "\n",
    "num_pipeline = Pipeline([\n",
    "    ('selector', DataFrameSelector(num_attributes)),\n",
    "    ('birth_to_age', BirthToAgeTransformator(num_column_ix_name_dict)),\n",
    "    ('invalid_value', MissingValueSetter(problematic_values, num_column_ix_name_dict)),\n",
    "    ('invalid_range', InvalidRangeSetter(valid_ranges, num_column_ix_name_dict)),\n",
    "    ('floater', Floater()),\n",
    "    ('imputer', SimpleImputer(strategy=\"median\")),\n",
    "    ('std_scaler', StandardScaler()),\n",
    "])"
   ]
  },
  {
   "cell_type": "code",
   "execution_count": 237,
   "metadata": {},
   "outputs": [],
   "source": [
    "cat_attributes = ['competitions','sex']\n",
    "cat_column_ix_name_dict = dict(zip(cat_attributes, range(len(cat_attributes))))\n",
    "\n",
    "cat_pipeline = Pipeline([\n",
    "    ('selector', DataFrameSelector(cat_attributes)),\n",
    "    ('competition_present', CompetitionPresentTransformator(cat_column_ix_name_dict)),\n",
    "    ('invalid_value', MissingValueSetter(problematic_values, cat_column_ix_name_dict)),\n",
    "    ('imputer', SimpleImputer(strategy=\"most_frequent\")),\n",
    "    ('floater', Floater())\n",
    "])"
   ]
  },
  {
   "cell_type": "code",
   "execution_count": 238,
   "metadata": {},
   "outputs": [],
   "source": [
    "full_pipeline = FeatureUnion(transformer_list=[\n",
    "    ('num_pipeline', num_pipeline),\n",
    "    ('cat_pipeline', cat_pipeline)\n",
    "])"
   ]
  },
  {
   "cell_type": "code",
   "execution_count": 239,
   "metadata": {},
   "outputs": [
    {
     "name": "stdout",
     "output_type": "stream",
     "text": [
      "setting 0 in started to None\n",
      "setting 255 in sex to None\n"
     ]
    }
   ],
   "source": [
    "users_prepared = full_pipeline.fit_transform(users)"
   ]
  },
  {
   "cell_type": "code",
   "execution_count": 240,
   "metadata": {},
   "outputs": [
    {
     "data": {
      "text/plain": [
       "(array([], dtype=int64), array([], dtype=int64))"
      ]
     },
     "execution_count": 240,
     "metadata": {},
     "output_type": "execute_result"
    }
   ],
   "source": [
    "numpy.where(pandas.isnull(users_prepared))"
   ]
  },
  {
   "cell_type": "code",
   "execution_count": 241,
   "metadata": {},
   "outputs": [
    {
     "data": {
      "text/plain": [
       "array([[0.0930241126351643, 0.5854791941829219, -1.3196081388088288, ...,\n",
       "        1.293416835080128, 0.0, 0.0],\n",
       "       [0.0930241126351643, -0.023253482473708453, -0.6807192167402395,\n",
       "        ..., -0.0629356457041948, 0.0, 0.0],\n",
       "       [0.5107036363650376, 1.1942118708395524, -1.479330369325976, ...,\n",
       "        1.68585854477941, 0.0, 0.0],\n",
       "       ...,\n",
       "       [0.23225062054512205, 1.1942118708395524, 0.11789193584549704,\n",
       "        ..., -1.4678597729244645, 0.0, 0.0],\n",
       "       [0.5107036363650376, 1.1942118708395524, 0.11789193584549704, ...,\n",
       "        -1.033723818054502, 0.0, 0.0],\n",
       "       [1.2068361759148263, -0.023253482473708453, 1.8748364715341175,\n",
       "        ..., -0.7771107833442374, 0.0, 0.0]], dtype=object)"
      ]
     },
     "execution_count": 241,
     "metadata": {},
     "output_type": "execute_result"
    }
   ],
   "source": [
    "imputer=SimpleImputer(strategy=\"most_frequent\")\n",
    "imputer.fit_transform(users_prepared)"
   ]
  },
  {
   "cell_type": "markdown",
   "metadata": {},
   "source": [
    "# Let's try some models!"
   ]
  },
  {
   "cell_type": "code",
   "execution_count": 256,
   "metadata": {},
   "outputs": [],
   "source": [
    "from sklearn.linear_model import LinearRegression\n",
    "from sklearn.tree import DecisionTreeRegressor\n",
    "from sklearn.ensemble import RandomForestRegressor\n",
    "\n",
    "from sklearn.metrics import mean_squared_error\n",
    "from sklearn.model_selection import cross_val_score"
   ]
  },
  {
   "cell_type": "code",
   "execution_count": 268,
   "metadata": {},
   "outputs": [],
   "source": [
    "def evaluate_regressor(regressor_class):\n",
    "    regressor = regressor_class()\n",
    "    regressor.fit(users_prepared, grade_labels)\n",
    "    grade_predictions = regressor.predict(users_prepared)\n",
    "    \n",
    "    mse = mean_squared_error(grade_labels, grade_predictions)\n",
    "    rmse = numpy.sqrt(mse)\n",
    "    print(f\"Training error: {rmse}\")\n",
    "    \n",
    "    cv_scores = cross_val_score(regressor, users_prepared, grade_labels,\n",
    "                               scoring=\"neg_mean_squared_error\", cv=10)\n",
    "    cv_rmse = numpy.mean(numpy.sqrt(-cv_scores))\n",
    "    print(f\"Mean CV error: {cv_rmse}\")\n",
    "    \n",
    "    plt.plot(grade_labels, grade_predictions, '.')\n",
    "    plt.plot(grade_labels, grade_labels, 'k-')\n",
    "    plt.show()"
   ]
  },
  {
   "cell_type": "code",
   "execution_count": 269,
   "metadata": {},
   "outputs": [
    {
     "name": "stdout",
     "output_type": "stream",
     "text": [
      "Training error: 8.109756186505104\n",
      "Mean CV error: 8.099170346149807\n"
     ]
    },
    {
     "data": {
      "image/png": "[encoded data removed]",
      "text/plain": [
       "<Figure size 432x288 with 1 Axes>"
      ]
     },
     "metadata": {
      "needs_background": "light"
     },
     "output_type": "display_data"
    }
   ],
   "source": [
    "evaluate_regressor(LinearRegression)"
   ]
  },
  {
   "cell_type": "code",
   "execution_count": 270,
   "metadata": {},
   "outputs": [
    {
     "name": "stdout",
     "output_type": "stream",
     "text": [
      "Training error: 4.363192224091574\n",
      "Mean CV error: 10.496047213104138\n"
     ]
    },
    {
     "data": {
      "image/png": "[encoded data removed]",
      "text/plain": [
       "<Figure size 432x288 with 1 Axes>"
      ]
     },
     "metadata": {
      "needs_background": "light"
     },
     "output_type": "display_data"
    }
   ],
   "source": [
    "evaluate_regressor(DecisionTreeRegressor)"
   ]
  },
  {
   "cell_type": "code",
   "execution_count": 271,
   "metadata": {},
   "outputs": [
    {
     "name": "stderr",
     "output_type": "stream",
     "text": [
      "/home/veronika/anaconda3/envs/handson_ml/lib/python3.7/site-packages/sklearn/ensemble/forest.py:248: FutureWarning: The default value of n_estimators will change from 10 in version 0.20 to 100 in 0.22.\n",
      "  \"10 in version 0.20 to 100 in 0.22.\", FutureWarning)\n"
     ]
    },
    {
     "name": "stdout",
     "output_type": "stream",
     "text": [
      "Training error: 5.249904911927772\n",
      "Mean CV error: 8.504724244999016\n"
     ]
    },
    {
     "data": {
      "image/png": "[encoded data removed]",
      "text/plain": [
       "<Figure size 432x288 with 1 Axes>"
      ]
     },
     "metadata": {
      "needs_background": "light"
     },
     "output_type": "display_data"
    }
   ],
   "source": [
    "evaluate_regressor(RandomForestRegressor)"
   ]
  },
  {
   "cell_type": "code",
   "execution_count": null,
   "metadata": {},
   "outputs": [],
   "source": []
  }
 ],
 "metadata": {
  "kernelspec": {
   "display_name": "Python (handson_ml)",
   "language": "python",
   "name": "handson_ml"
  },
  "language_info": {
   "codemirror_mode": {
    "name": "ipython",
    "version": 3
   },
   "file_extension": ".py",
   "mimetype": "text/x-python",
   "name": "python",
   "nbconvert_exporter": "python",
   "pygments_lexer": "ipython3",
   "version": "3.7.0"
  }
 },
 "nbformat": 4,
 "nbformat_minor": 2
}
